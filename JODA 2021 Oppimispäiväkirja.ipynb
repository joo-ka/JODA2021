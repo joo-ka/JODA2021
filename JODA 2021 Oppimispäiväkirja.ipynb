{
 "cells": [
  {
   "cell_type": "markdown",
   "id": "7426a91d",
   "metadata": {},
   "source": [
    "# Luentoviikko 1"
   ]
  },
  {
   "cell_type": "markdown",
   "id": "9e984031",
   "metadata": {},
   "source": [
    "En osallistunut luennolle tai demosessioon livenä, katsoin tallenteet jälkikäteen.\n",
    "\n",
    "Luennolla käytiin läpi kurssin rakennetta ja työkaluja. Pisteitä tulee oppimispäiväkirjan teosta ja harjoitustyöstä. Luentovideot löytyy moodlen kautta ja kysymykset / keskustelu Slackissa.\n",
    "\n",
    "Mitä on datatiede:\n",
    " - Liiketoimintaosaamista, analytiikkaa\n",
    " - Ohjelmointia / tietokantaosaamista\n",
    " - Tilastotiedettä\n",
    " - Datalähtöistä viestintää, visualisointia\n",
    " \n",
    "Datatieteen metrokartta havainnollistaa, kuinka paljon erilaista osaamista ym. päätermien alle mahtuu. Yhden ihmisen on hyvin vaikea oppia mestariksi kaikessa, jonka vuoksi tehokkainta on toimia ryhmässä, joka koostuu eri osa-alueiden osaajista."
   ]
  },
  {
   "cell_type": "markdown",
   "id": "f75d1c63",
   "metadata": {},
   "source": [
    "### Jupyter notebook"
   ]
  },
  {
   "cell_type": "markdown",
   "id": "3c11dfa2",
   "metadata": {},
   "source": [
    "Oppimispäiväkirjan tekoon suositeltiin Jupyteria. Päätin asentaa sen omalle koneelle. Muita 1. luennolla esiteltyjä vaihtoehtoja oppimispäiväkirjan tekoon olivat myös esim. CSC:n tarjoama pilvipohjainen notebook-sovellus. \n",
    "\n",
    "Ensimmäinen opiskeltava asia oli Jupyter notebookin asennus ja käyttö. Minulla on jonkin verran python-koodauskokemusta, ja python sekä pip sattuu olemaan asennettuna omalle koneelle, joten asensin jupyterin pip:n avulla jupyterin kotisivujen ohjeiden avulla (https://jupyter.org/install). \n",
    "\n",
    "Itse python-koodien ajot aion suorittaa Pycharmissa, koska se on jo asennettuna koneelleni virtuaaliympäristön kera, johon on helppo lisätä tarvittavia ulkoisia kirjastoja kuten pandas. Toinen keino olisi ollut asentaa pelkän jupyter notebookin sijasta Anaconda, jonka mukana käsittääkseni olisi tullut valmiina yleiset ulkoiset kirjastot. \n",
    "\n",
    "Ajan jupyteria omalta koneelta local hostina kun muokkaan päiväkirjaa, ja web-hostauksen päätin hoitaa GitHubin kautta. Samalla on mahdollisuus opetella gitin käyttöä command linen kautta, kun puskee muokattuja versioita githubiin. Käytän tätä ohjetta gitin käytössä: https://medium.com/@sauravbhagat_10426/how-to-upload-code-to-github-6db1c8ff56aa\n"
   ]
  },
  {
   "cell_type": "markdown",
   "id": "9b6037c1",
   "metadata": {},
   "source": [
    "## Demosessio 1"
   ]
  },
  {
   "cell_type": "markdown",
   "id": "52b7c01e",
   "metadata": {},
   "source": [
    "Käytiin läpi:\n",
    "\n",
    "-tarvittavien kirjastojen importtaus (pandas, matplotlibin pari hyödyllistä plottausmoduulia).\n",
    "-datan luku csv:stä dataframe-objektiksi\n",
    "-Datan muokkausta: \n",
    "    -datatypen muuttaminen (esim string --> date)\n",
    "    -sarakkeen valinta dataframesta ja apply-funktion käyttö\n",
    "    -datan pilkkominen: loc-funktiolla tiettyjen sarakkeiden valinta; slicing \n",
    "    \n"
   ]
  },
  {
   "cell_type": "markdown",
   "id": "d20a886c",
   "metadata": {},
   "source": [
    "## Esimerkkikoodi"
   ]
  },
  {
   "cell_type": "code",
   "execution_count": null,
   "id": "c8197e6a",
   "metadata": {},
   "outputs": [],
   "source": [
    "import pandas as pd\n",
    "import matplotlib.pyplot as plt\n",
    "from matplotlib import style\n",
    "style.use('ggplot')\n",
    "\n",
    "data = pd.read_csv(\"esimerkki.csv\")   # data from csv to Pandas dataframe object\n",
    "\n",
    "sub_data = data.loc[:,['Revenue', 'Country']]   # select all rows and specified columns\n",
    "revenue_fin = sub_data[sub_data['Country'] == 'FIN']\n",
    "revenue_usa = sub_data[sub_data['Country'] == 'USA']\n",
    "\n",
    "sum_fin = sum(revenue_fin['Revenue'])\n",
    "sum_usa = sum(revenue_usa['Revenue'])\n",
    "\n",
    "# plotting results\n",
    "df_plot = pd.DataFrame([[sum_fin, sum_usa]])\n",
    "df_plot.columns = ['fin', 'usa']\n",
    "\n",
    "df_plot.plot.bar(figsize=(8,4))\n",
    "\n",
    "plt.legend(loc=2)\n",
    "plt.ylabel('revenue')\n",
    "plt.show()"
   ]
  },
  {
   "cell_type": "markdown",
   "id": "61484d73",
   "metadata": {},
   "source": [
    "## Kehitysehdotukset"
   ]
  },
  {
   "cell_type": "markdown",
   "id": "64dbadb8",
   "metadata": {},
   "source": [
    "En muista, mitkä kurssin lähtötasovaatimukset olivat, mutta Fitechin kautta kurssille osallistuneena tuli mieleen, että jupyterin / koodausalustan pystytykseen voisi antaa vielä vähän tarkempia vinkkejä heille, joille ohjelmointi on täysin uutta. Voi antaa vaikka vahva suositus asentaa Anaconda, jolloin saa jupyterin ja ilmeisesti kaikki ulkoiset kirjastot, mitä kurssilla tarvitaan valmiissa paketissa."
   ]
  }
 ],
 "metadata": {
  "kernelspec": {
   "display_name": "Python 3",
   "language": "python",
   "name": "python3"
  },
  "language_info": {
   "codemirror_mode": {
    "name": "ipython",
    "version": 3
   },
   "file_extension": ".py",
   "mimetype": "text/x-python",
   "name": "python",
   "nbconvert_exporter": "python",
   "pygments_lexer": "ipython3",
   "version": "3.8.1"
  }
 },
 "nbformat": 4,
 "nbformat_minor": 5
}
